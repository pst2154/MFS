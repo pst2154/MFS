{
 "cells": [
  {
   "cell_type": "code",
   "execution_count": 1,
   "metadata": {},
   "outputs": [
    {
     "data": {
      "text/plain": [
       "True"
      ]
     },
     "execution_count": 1,
     "metadata": {},
     "output_type": "execute_result"
    }
   ],
   "source": [
    "from dotenv import load_dotenv\n",
    "import os\n",
    "import re, json\n",
    "import requests\n",
    "from langchain.text_splitter import CharacterTextSplitter\n",
    "from langchain.document_loaders.dataframe import DataFrameLoader\n",
    "from langchain.document_loaders import PyPDFLoader\n",
    "from langchain.embeddings import HuggingFaceEmbeddings\n",
    "from langchain.vectorstores import FAISS\n",
    "# from langchain.vectorstores import Chroma\n",
    "from langchain.chains import RetrievalQAWithSourcesChain\n",
    "from genai.model import Credentials\n",
    "from genai.schemas import GenerateParams\n",
    "from genai.extensions.langchain import LangChainInterface\n",
    "import time\n",
    "from pypdf import PdfReader\n",
    "import pandas as pd\n",
    "import math\n",
    "\n",
    "import logging\n",
    "logging.basicConfig(level=logging.INFO)\n",
    "\n",
    "load_dotenv('/Users/alexsteiner/.env')\n",
    "\n"
   ]
  },
  {
   "cell_type": "code",
   "execution_count": 2,
   "metadata": {},
   "outputs": [],
   "source": [
    "# %%time\n",
    "# hf_embeddings = HuggingFaceEmbeddings()"
   ]
  },
  {
   "cell_type": "code",
   "execution_count": 3,
   "metadata": {},
   "outputs": [],
   "source": [
    "# %%time\n",
    "# pdf_reader = PdfReader('data/IBM_Annual_Report_2022.pdf')\n",
    "# text = \"\"\n",
    "# for page in pdf_reader.pages:\n",
    "#     text += page.extract_text()"
   ]
  },
  {
   "cell_type": "code",
   "execution_count": 4,
   "metadata": {},
   "outputs": [],
   "source": [
    "# %%time\n",
    "# text_splitter = CharacterTextSplitter(\n",
    "# separator=\"\\n\",\n",
    "# chunk_size=1024,\n",
    "# chunk_overlap=0.1 * 1024,\n",
    "# length_function=len\n",
    "# )"
   ]
  },
  {
   "cell_type": "code",
   "execution_count": 5,
   "metadata": {},
   "outputs": [],
   "source": [
    "# %%time\n",
    "# docs = text_splitter.split_text(text)"
   ]
  },
  {
   "cell_type": "code",
   "execution_count": 6,
   "metadata": {},
   "outputs": [],
   "source": [
    "# %%time\n",
    "# vectorstore = FAISS.from_texts(docs, embedding=hf_embeddings)"
   ]
  },
  {
   "cell_type": "code",
   "execution_count": 7,
   "metadata": {},
   "outputs": [
    {
     "name": "stderr",
     "output_type": "stream",
     "text": [
      "INFO:sentence_transformers.SentenceTransformer:Load pretrained SentenceTransformer: sentence-transformers/all-mpnet-base-v2\n",
      "INFO:torch.distributed.nn.jit.instantiator:Created a temporary directory at /var/folders/zf/vsn0hgrx6bbb2ff0qbcd3n4m0000gn/T/tmpgovp66fk\n",
      "INFO:torch.distributed.nn.jit.instantiator:Writing /var/folders/zf/vsn0hgrx6bbb2ff0qbcd3n4m0000gn/T/tmpgovp66fk/_remote_module_non_scriptable.py\n",
      "INFO:sentence_transformers.SentenceTransformer:Use pytorch device: cpu\n"
     ]
    },
    {
     "data": {
      "application/vnd.jupyter.widget-view+json": {
       "model_id": "2deada655f2a4ecead512b7dcf3de9fa",
       "version_major": 2,
       "version_minor": 0
      },
      "text/plain": [
       "Batches:   0%|          | 0/10 [00:00<?, ?it/s]"
      ]
     },
     "metadata": {},
     "output_type": "display_data"
    },
    {
     "name": "stderr",
     "output_type": "stream",
     "text": [
      "INFO:faiss.loader:Loading faiss.\n",
      "INFO:faiss.loader:Successfully loaded faiss.\n"
     ]
    },
    {
     "name": "stdout",
     "output_type": "stream",
     "text": [
      "CPU times: user 1min 31s, sys: 26.9 s, total: 1min 58s\n",
      "Wall time: 35.7 s\n"
     ]
    }
   ],
   "source": [
    "%%time\n",
    "hf_embeddings = HuggingFaceEmbeddings()\n",
    "def get_vector_index(file):\n",
    "\n",
    "    pdf_reader = PdfReader(file)\n",
    "    text = \"\"\n",
    "    for page in pdf_reader.pages:\n",
    "        text += page.extract_text()\n",
    "\n",
    "    # split into chunks\n",
    "    text_splitter = CharacterTextSplitter(\n",
    "    separator=\"\\n\",\n",
    "    chunk_size=1024,\n",
    "    chunk_overlap=0.01 * 1024,\n",
    "    length_function=len\n",
    "    )\n",
    "\n",
    "    docs = text_splitter.split_text(text)\n",
    "    vectorstore = FAISS.from_texts(docs, embedding=hf_embeddings)\n",
    "    \n",
    "    return vectorstore\n",
    "\n",
    "vectorstore = get_vector_index('data/_10-K-2022-(As-Filed).pdf')"
   ]
  },
  {
   "cell_type": "code",
   "execution_count": 11,
   "metadata": {},
   "outputs": [
    {
     "data": {
      "application/vnd.jupyter.widget-view+json": {
       "model_id": "c83ec144d15344e48823a74eacddda77",
       "version_major": 2,
       "version_minor": 0
      },
      "text/plain": [
       "Batches:   0%|          | 0/1 [00:00<?, ?it/s]"
      ]
     },
     "metadata": {},
     "output_type": "display_data"
    },
    {
     "name": "stdout",
     "output_type": "stream",
     "text": [
      "Document:\n",
      "Consolidated Statements of Comprehensive Income for the years ended September 24, 2022, September 25, \n",
      "2021 and September 26, 2020 30\n",
      "Consolidated Balance Sheets as of September 24, 2022 and September 25, 2021 31\n",
      "Consolidated Statements of Shareholders’ Equity for the years ended September 24, 2022, September 25, 2021 \n",
      "and September 26, 2020 32\n",
      "Consolidated Statements of Cash Flows for the years ended September 24, 2022, September 25, 2021 and \n",
      "September 26, 2020 33\n",
      "Notes to Consolidated Financial Statements 34\n",
      "Reports of Independent Registered Public Accounting Firm* 50\n",
      "* Ernst & Young LLP, PCAOB Firm ID No. 000 42.\n",
      "(2)Financial Statement Schedules\n",
      "All financial statement schedules have been omitted, since the required information is not applicable or is not present in amounts \n",
      "sufficient to require submission of the schedule, or because the information required is included in the consolidated financial \n",
      "statements and accompanying notes included in this Form 10-K.\n",
      "\n",
      "Document:\n",
      "change is resulting in certain types of natural disasters occurring more frequently or with more intense effects. Such events can \n",
      "make it difficult or impossible for the Company to manufacture and deliver products to its customers, create delays and \n",
      "inefficiencies in the Company’s supply and manufacturing chain, and result in slowdowns and outages to the Company’s service \n",
      "offerings. Following an interruption to its business, the Company can require substantial recovery time, experience significant \n",
      "expenditures to resume operations, and lose significant sales. Because the Company relies on single or limited sources for the \n",
      "supply and manufacture of many critical components, a business interruption affecting such sources would exacerbate any \n",
      "negative consequences to the Company.\n",
      "Apple Inc. | 2022  Form 10-K | 6The Company’s operations are also subject to the risks of industrial accidents at its suppliers and contract manufacturers. While\n",
      "\n",
      "Document:\n",
      "2018September \n",
      "2019September \n",
      "2020September \n",
      "2021September \n",
      "2022\n",
      "Apple Inc. $ 100 $ 149 $ 146 $ 303 $ 400 $ 411 \n",
      "S&P 500 Index $ 100 $ 118 $ 123 $ 142 $ 184 $ 156 \n",
      "S&P Information Technology Index $ 100 $ 131 $ 143 $ 210 $ 271 $ 217 \n",
      "Dow Jones U.S. Technology Supersector Index $ 100 $ 131 $ 139 $ 208 $ 283 $ 209 \n",
      "Item 6. [Reserved]\n",
      "Apple Inc. | 2022  Form 10-K | 19Item 7. Management’s Discussion and Analysis of Financial Condition and Results of Operations\n",
      "The following discussion should be read in conjunction with the consolidated financial statements and accompanying notes \n",
      "included in Part II, Item 8 of this Form 10-K. This section of this Form 10-K generally discusses 2022  and 2021  items and year-\n",
      "to-year comparisons between 2022  and 2021 . Discussions of 2020  items and year-to-year comparisons between 2021  and \n",
      "2020  are not included in this Form 10-K, and can be found in “Management’s Discussion and Analysis of Financial Condition\n",
      "\n",
      "\n"
     ]
    }
   ],
   "source": [
    "topic = '''major_events: Highlight of significant events, acquisitions, or strategic shifts that occurred over the past year.'''\n",
    "relevant_docs = vectorstore.similarity_search(topic,3)\n",
    "relevant_content = ''\n",
    "for doc in reversed(relevant_docs):\n",
    "    relevant_content += 'Document:\\n' + doc.page_content + '\\n\\n'   \n",
    "\n",
    "print(f'{relevant_content}')"
   ]
  },
  {
   "cell_type": "code",
   "execution_count": 12,
   "metadata": {},
   "outputs": [],
   "source": [
    "API_KEY = os.getenv(\"BAM_KEY\", None)\n",
    "API_ENDPOINT = os.getenv(\"BAM_API\", None)\n",
    "API_ENDPOINT=API_ENDPOINT.replace('generate','')\n",
    "creds = Credentials(API_KEY, API_ENDPOINT)\n",
    "\n",
    "params = GenerateParams(\n",
    "    decoding_method = \"greedy\",\n",
    "    min_new_tokens = 1,\n",
    "    max_new_tokens = 1000,\n",
    "    #temperature = 0.7,\n",
    "    #top_k = 50,\n",
    "    #top_p = 1,\n",
    "    repetition_penalty = 1.2\n",
    ") \n",
    "\n",
    "llm = LangChainInterface(\n",
    "    model='meta-llama/llama-2-70b-chat', \n",
    "    credentials=creds,\n",
    "    params=params\n",
    ")"
   ]
  },
  {
   "cell_type": "code",
   "execution_count": 13,
   "metadata": {},
   "outputs": [],
   "source": [
    "prompt = '''<<SYS>>\n",
    "You are a financial analyst who reads 10k files and writes reports on topics.\n",
    "Base your answers on the Relevant Information Section only and do not make up any information.\n",
    "Return answer using Bullet points like the following:\n",
    "\n",
    "Report: \n",
    "•\n",
    "•\n",
    "•\n",
    "<</SYS>>\n",
    "\n",
    "[INST]\n",
    "Relevant Information: \n",
    "{docs}\n",
    "\n",
    "Topic: {topic}[/INST]\n",
    "Report:'''"
   ]
  },
  {
   "cell_type": "code",
   "execution_count": 14,
   "metadata": {},
   "outputs": [
    {
     "name": "stdout",
     "output_type": "stream",
     "text": [
      "<<SYS>>\n",
      "You are a financial analyst who reads 10k files and writes reports on topics.\n",
      "Base your answers on the Relevant Information Section only and do not make up any information.\n",
      "Return answer using Bullet points like the following:\n",
      "\n",
      "Report: \n",
      "•\n",
      "•\n",
      "•\n",
      "<</SYS>>\n",
      "\n",
      "[INST]\n",
      "Relevant Information: \n",
      "Document:\n",
      "Consolidated Statements of Comprehensive Income for the years ended September 24, 2022, September 25, \n",
      "2021 and September 26, 2020 30\n",
      "Consolidated Balance Sheets as of September 24, 2022 and September 25, 2021 31\n",
      "Consolidated Statements of Shareholders’ Equity for the years ended September 24, 2022, September 25, 2021 \n",
      "and September 26, 2020 32\n",
      "Consolidated Statements of Cash Flows for the years ended September 24, 2022, September 25, 2021 and \n",
      "September 26, 2020 33\n",
      "Notes to Consolidated Financial Statements 34\n",
      "Reports of Independent Registered Public Accounting Firm* 50\n",
      "* Ernst & Young LLP, PCAOB Firm ID No. 000 42.\n",
      "(2)Financial Statement Schedules\n",
      "All financial statement schedules have been omitted, since the required information is not applicable or is not present in amounts \n",
      "sufficient to require submission of the schedule, or because the information required is included in the consolidated financial \n",
      "statements and accompanying notes included in this Form 10-K.\n",
      "\n",
      "Document:\n",
      "change is resulting in certain types of natural disasters occurring more frequently or with more intense effects. Such events can \n",
      "make it difficult or impossible for the Company to manufacture and deliver products to its customers, create delays and \n",
      "inefficiencies in the Company’s supply and manufacturing chain, and result in slowdowns and outages to the Company’s service \n",
      "offerings. Following an interruption to its business, the Company can require substantial recovery time, experience significant \n",
      "expenditures to resume operations, and lose significant sales. Because the Company relies on single or limited sources for the \n",
      "supply and manufacture of many critical components, a business interruption affecting such sources would exacerbate any \n",
      "negative consequences to the Company.\n",
      "Apple Inc. | 2022  Form 10-K | 6The Company’s operations are also subject to the risks of industrial accidents at its suppliers and contract manufacturers. While\n",
      "\n",
      "Document:\n",
      "2018September \n",
      "2019September \n",
      "2020September \n",
      "2021September \n",
      "2022\n",
      "Apple Inc. $ 100 $ 149 $ 146 $ 303 $ 400 $ 411 \n",
      "S&P 500 Index $ 100 $ 118 $ 123 $ 142 $ 184 $ 156 \n",
      "S&P Information Technology Index $ 100 $ 131 $ 143 $ 210 $ 271 $ 217 \n",
      "Dow Jones U.S. Technology Supersector Index $ 100 $ 131 $ 139 $ 208 $ 283 $ 209 \n",
      "Item 6. [Reserved]\n",
      "Apple Inc. | 2022  Form 10-K | 19Item 7. Management’s Discussion and Analysis of Financial Condition and Results of Operations\n",
      "The following discussion should be read in conjunction with the consolidated financial statements and accompanying notes \n",
      "included in Part II, Item 8 of this Form 10-K. This section of this Form 10-K generally discusses 2022  and 2021  items and year-\n",
      "to-year comparisons between 2022  and 2021 . Discussions of 2020  items and year-to-year comparisons between 2021  and \n",
      "2020  are not included in this Form 10-K, and can be found in “Management’s Discussion and Analysis of Financial Condition\n",
      "\n",
      "Topic: major_events: Highlight of significant events, acquisitions, or strategic shifts that occurred over the past year.[/INST]\n",
      "Report:\n"
     ]
    }
   ],
   "source": [
    "to_send = prompt.format(docs = relevant_content.strip(), topic=topic)\n",
    "\n",
    "print(f'{to_send}')"
   ]
  },
  {
   "cell_type": "code",
   "execution_count": 15,
   "metadata": {},
   "outputs": [
    {
     "name": "stderr",
     "output_type": "stream",
     "text": [
      "INFO:httpx:HTTP Request: GET https://bam-api.res.ibm.com/v1/generate/limits \"HTTP/1.1 200 OK\"\n",
      "INFO:httpx:HTTP Request: POST https://bam-api.res.ibm.com/v1/generate \"HTTP/1.1 200 OK\"\n",
      "INFO:genai.extensions.langchain.llm:Output of GENAI call: \n",
      "\n",
      "• The company experienced a challenging year in 2022, facing various obstacles including the COVID-19 pandemic, global economic uncertainty, and increased competition in the tech industry.\n",
      "• Despite these challenges, Apple's net sales reached a record high of $400 billion, driven by strong demand for its products and services.\n",
      "• The company continued to invest heavily in research and development, with expenses increasing by 15% year-over-year to $14.2 billion.\n",
      "• Apple's focus on innovation and customer satisfaction has allowed it to maintain its position as a leader in the technology sector, despite intensifying competition.\n",
      "• The company has implemented various measures to mitigate the impact of the pandemic on its operations, including remote work arrangements and increased investments in digital infrastructure.\n",
      "• Looking ahead, Apple remains well-positioned for long-term growth, thanks to its strong brand, loyal customer base, and commitment to innovation.\n"
     ]
    },
    {
     "name": "stdout",
     "output_type": "stream",
     "text": [
      "\n",
      "\n",
      "• The company experienced a challenging year in 2022, facing various obstacles including the COVID-19 pandemic, global economic uncertainty, and increased competition in the tech industry.\n",
      "• Despite these challenges, Apple's net sales reached a record high of $400 billion, driven by strong demand for its products and services.\n",
      "• The company continued to invest heavily in research and development, with expenses increasing by 15% year-over-year to $14.2 billion.\n",
      "• Apple's focus on innovation and customer satisfaction has allowed it to maintain its position as a leader in the technology sector, despite intensifying competition.\n",
      "• The company has implemented various measures to mitigate the impact of the pandemic on its operations, including remote work arrangements and increased investments in digital infrastructure.\n",
      "• Looking ahead, Apple remains well-positioned for long-term growth, thanks to its strong brand, loyal customer base, and commitment to innovation.\n"
     ]
    }
   ],
   "source": [
    "resonse = llm(to_send)\n",
    "print(f'{resonse}')"
   ]
  },
  {
   "cell_type": "code",
   "execution_count": 13,
   "metadata": {},
   "outputs": [
    {
     "data": {
      "text/plain": [
       "\"\\n• Launch of new products and services, such as the iPhone 14 series, AirPods Pro 2, and Apple Watch Series 8\\n• Expansion of Apple's original content offerings through Apple TV+, including new shows and partnerships with prominent studios and talent\\n• Continued growth of Apple's service segments, including the App Store, Apple Music, Apple Pay, and iCloud\\n• Strategic shift towards more sustainable and environmentally friendly practices, including the use of recycled materials in product manufacturing and renewable energy sources for powering facilities\\n• Acquisition of several companies, including Intel's smartphone modem business and Dark Sky, a weather app developer\\n• Collaboration with Amazon to offer Apple TV+ on Amazon's Fire TV streaming devices\\n• Entry into new markets, such as India, where Apple launched its first official online store\""
      ]
     },
     "execution_count": 13,
     "metadata": {},
     "output_type": "execute_result"
    }
   ],
   "source": [
    "resonse"
   ]
  },
  {
   "cell_type": "code",
   "execution_count": null,
   "metadata": {},
   "outputs": [],
   "source": [
    "def answer_question(question, db):\n",
    "    load_dotenv('/Users/alexsteiner/.env')\n",
    "    API_KEY = os.getenv(\"BAM_KEY\", None)\n",
    "    API_ENDPOINT = os.getenv(\"BAM_API\", None)\n",
    "    creds = Credentials(API_KEY, API_ENDPOINT)\n",
    "\n",
    "    params = GenerateParams(\n",
    "        decoding_method = \"sample\",\n",
    "        min_new_tokens = 1,\n",
    "        max_new_tokens = 500,\n",
    "        temperature = 0.7,\n",
    "        top_k = 50,\n",
    "        top_p = 1,\n",
    "        repetition_penalty = 1.2\n",
    "    )\n",
    "\n",
    "    llm = LangChainInterface(\n",
    "        model='meta-llama/llama-2-70b-chat', \n",
    "        credentials=creds,\n",
    "        params=params\n",
    "    )\n",
    "\n",
    "    relevant_docs = db.similarity_search(question)\n",
    "    relevant_content = ''\n",
    "    for doc in reversed(relevant_docs):\n",
    "        relevant_content += '```\\n' + 'Content: ' + doc.page_content + '\\n```\\n'     \n",
    "\n",
    "    prompt = '''<<SYS>>\n",
    "You are a financial analyst who reads 10k files and reports back. \n",
    "Return answer using Bullet points like the following:\n",
    "\n",
    "Answer: \n",
    "•\n",
    "•\n",
    "<</SYS>>\n",
    "\n",
    "[INST]\n",
    "Relavant Information: \n",
    "{docs}\n",
    "\n",
    "Question: {question}[/INST]\n",
    "Answer:'''\n",
    "\n",
    "    to_send = prompt.format(docs = relevant_content.strip(), question=question)\n",
    "\n",
    "    response = llm(to_send)\n",
    "\n",
    "    return response"
   ]
  },
  {
   "cell_type": "code",
   "execution_count": null,
   "metadata": {},
   "outputs": [],
   "source": [
    "fiscal_year = {\n",
    "    \"performance_highlights\": \"Key performance and financial stats over the fiscal year.\",\n",
    "    \"major_events\": \"Highlight of significant events, acquisitions, or strategic shifts that occurred during the year.\",\n",
    "    \"challenges_encountered\": \"Challenges the company faced during the year and, if and how they managed or overcame them.\"\n",
    "}\n",
    "\n",
    "fiscal_year_attributes = [\"performance_highlights\", \"major_events\", \"challenges_encountered\"]\n",
    "\n",
    "strat_outlook = {\n",
    "    \"strategic_initiatives\": \"The company's primary objectives and growth strategies for the upcoming years.\",\n",
    "    \"market_outlook\": \"Insights into the broader market, competitive landscape, and industry trends the company anticipates.\",\n",
    "    \"product_roadmap\": \"Upcoming launches, expansions, or innovations the company plans to roll out.\"\n",
    "}\n",
    "\n",
    "strat_outlook_attributes = [\"strategic_initiatives\", \"market_outlook\", \"product_roadmap\"]\n",
    "\n",
    "risk_management = {\n",
    "    \"risk_factors\": \"Primary risks the company acknowledges.\",\n",
    "    \"risk_mitigation\": \"Strategies for managing these risks.\"\n",
    "}\n",
    "\n",
    "risk_management_attributes = [\"risk_factors\", \"risk_mitigation\"]\n",
    "\n",
    "innovation = {\n",
    "    \"r_and_d_activities\": \"Overview of the company's focus on research and development, major achievements, or breakthroughs.\",\n",
    "    \"innovation_focus\": \"Mention of new technologies, patents, or areas of research the company is diving into.\"\n",
    "}\n",
    "\n",
    "innovation_attributes = [\"r_and_d_activities\", \"innovation_focus\"]\n",
    "\n",
    "\n",
    "def report_insights(fields_to_include, section_num):\n",
    "\n",
    "    fields = None\n",
    "    attribs = None\n",
    "\n",
    "    if section_num == 1:\n",
    "        fields = fiscal_year\n",
    "        attribs = fiscal_year_attributes\n",
    "    elif section_num == 2:\n",
    "        fields = strat_outlook\n",
    "        attribs = strat_outlook_attributes\n",
    "    elif section_num == 3:\n",
    "        fields = risk_management\n",
    "        attribs = risk_management_attributes\n",
    "    elif section_num == 4:\n",
    "        fields = innovation\n",
    "        attribs = innovation_attributes\n",
    "\n",
    "    ins = {}\n",
    "    for i, field in enumerate(attribs):\n",
    "        if fields_to_include[i]:\n",
    "            qqq = field + ': ' + fields[field]\n",
    "            print(qqq)\n",
    "            response = answer_question(question=qqq, db = vectorstore)\n",
    "            ins[field] = response\n",
    "\n",
    "    return {\n",
    "        \"insights\": ins\n",
    "    }"
   ]
  },
  {
   "cell_type": "code",
   "execution_count": null,
   "metadata": {},
   "outputs": [],
   "source": [
    "insights = report_insights([True, False], 4)"
   ]
  },
  {
   "cell_type": "code",
   "execution_count": null,
   "metadata": {},
   "outputs": [],
   "source": [
    "to_print = insights['insights']['r_and_d_activities']\n",
    "\n",
    "print(f'{to_print}')"
   ]
  },
  {
   "cell_type": "code",
   "execution_count": null,
   "metadata": {},
   "outputs": [],
   "source": [
    "to_print"
   ]
  }
 ],
 "metadata": {
  "kernelspec": {
   "display_name": "Python 3",
   "language": "python",
   "name": "python3"
  },
  "language_info": {
   "codemirror_mode": {
    "name": "ipython",
    "version": 3
   },
   "file_extension": ".py",
   "mimetype": "text/x-python",
   "name": "python",
   "nbconvert_exporter": "python",
   "pygments_lexer": "ipython3",
   "version": "3.10.10"
  }
 },
 "nbformat": 4,
 "nbformat_minor": 2
}
